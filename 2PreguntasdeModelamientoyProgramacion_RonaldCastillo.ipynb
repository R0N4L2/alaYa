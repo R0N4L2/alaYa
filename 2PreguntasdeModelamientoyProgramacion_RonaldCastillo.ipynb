{
  "nbformat": 4,
  "nbformat_minor": 0,
  "metadata": {
    "colab": {
      "provenance": [],
      "authorship_tag": "ABX9TyMdeS3jhSPc01wNvdCNRJba",
      "include_colab_link": true
    },
    "kernelspec": {
      "name": "python3",
      "display_name": "Python 3"
    },
    "language_info": {
      "name": "python"
    }
  },
  "cells": [
    {
      "cell_type": "markdown",
      "metadata": {
        "id": "view-in-github",
        "colab_type": "text"
      },
      "source": [
        "<a href=\"https://colab.research.google.com/github/R0N4L2/alaYa/blob/main/2PreguntasdeModelamientoyProgramacion_RonaldCastillo.ipynb\" target=\"_parent\"><img src=\"https://colab.research.google.com/assets/colab-badge.svg\" alt=\"Open In Colab\"/></a>"
      ]
    },
    {
      "cell_type": "markdown",
      "source": [
        "__Pregunta1:__\n",
        "\n",
        "Una línea áerea decide incorporar un nuevo avión para vuelos comerciales a su flota. Para habilitarlo necesita conocer cuáles el número óptimo de asientos por clase $(x_i)$, la cantidad  requerida de azafatas $(y_1)$ y auxiliares de vuelo $(y_2)$, de tal manera que la utilidad sea máxima. Existen 3 tipos de clases: Primera, Ejecutiva y Económica. Por políticas internas se debe ofrecer un mínimo de asientos por clase de 25, 80 y 120 respectivamente. Además un estudio de mercado indicó que la demanda máxima para cada clase es de 45, 100 y 210, por lo que tener un número superior de asientos por clase no tendrá ningún sentido. Por otra parte, el número de azafatas y auxiliares también está acotado. Por un lado, el avión no puede funcionar con menos de 8 azafatas y 2 auxiliares de vuelo; y por límite de espacio no podrán ser más de 18 azafatas y 5 auxiliares de vuelo. Además, para entregar un buen servicio en cada clase, deberá haber almenos 1 azafata por cada 10 pasajeros de Primera, por cada 20 de Ejecutiva y por cada 40 de Económica. También deberá haber un auxiliar de vuelo por cada 100 pasajeros del avión. El sueldo de cada azafata es de $\\$200$ dólares y el de un auxiliar de $\\$120$ dólares. El avión dispone de $420 m^2$ para distribuir los asientos (el espacio para pasillos, cabinas y baños no está incluido), y habrá que considerar que un  asiento de Primera ocupa $1.8 m^2$, uno de Ejecutiva $1.4m^2$ y unode Económica $1 m^2$. El valor de  un pasaje en cada una de las claseses de $\\$2,000$, $\\$1,300$ y $\\$900$ dólares respectivamente, mientras  que el costo de la comida para cada una de las clases es de $\\$80$, $\\$60$ y $\\$50$ dólares. El costo de mantención del avión es de $\\$75,000$ dólares. Finalmente, tras un cuidadoso estudio de servicio e imagen, la línea aérea concluyó que por cada azafata que tuviera por sobre el mínimo, recibiría un beneficio total equivalente a $\\$100$ dólares, y por cada auxiliar de vuelo adicional el beneficio sería de $\\$50$ dólares; esto debido a que entregarían un mejor servicio y los clientes preferirían viajar en su línea. Se pide:\n",
        "\n",
        "* Modelar el problema de manera extendida. \n",
        "* Programar y resolver mediante un optimizador de Python (Pulp,Pyomo,PythonGurobio similares).\n",
        "\n",
        "Se debe indicar el valor de cada variable y su función objetivo."
      ],
      "metadata": {
        "id": "EKAPDgc1jcke"
      }
    },
    {
      "cell_type": "markdown",
      "source": [
        "__Respuesta__:\n",
        "\n",
        "El problema de optimización lineal puede ser formulado de la siguiente manera:\n",
        "\n",
        "* _Variables de decisión_:\n",
        "\n",
        "  1. $x_i$: Número de asientos por clase (Primera[i=1], Ejecutiva [i=2] y Económica [i=3]).\n",
        "  2. $y_1$: Cantidad de azafatas.\n",
        "  3. $y_2$: Cantidad de auxiliares de vuelo.\n",
        "\n",
        "* _Función objetivo_:\n",
        "\n",
        "  Maximizar la utilidad total de la línea aérea, considerando los ingresos por pasajes, el costo de mantención del avión y los beneficios adicionales por tener azafatas y auxiliares de vuelo extra. La función objetivo se puede expresar como:\n",
        "\n",
        "  ___Maximizar___:\n",
        "\n",
        "$$f(x,y)=(2,000-80) * x_1 + (1,300-60) * x_2 + (900-50) * x_3 - 75,000 - 300 * y_1 - 170 * y_2$$\n",
        "\n",
        "*_Restricciones_:\n",
        "\n",
        " Límite de asientos por clase:\n",
        "\n",
        " 1. $45 \\geq x_1 \\geq 25$ (Primera)\n",
        " 2. $100 \\geq x_2 \\geq 80$ (Ejecutiva)\n",
        " 3. $210 \\geq x_3 \\geq 120$ (Económica)\n",
        " 4. $18 \\geq y_1 \\geq 8$ (azafatas)\n",
        " 5. $5 \\geq y_2 \\geq 2$ (auxiliares de vuelo)\n",
        " \n",
        "  Restricciones de personal por número de pasajeros:\n",
        "  6. $y_1 \\geq \\frac{x_1}{10}+\\frac{x_2}{20}+\\frac{x_2}{40}$\n",
        "  \n",
        "  Restricción de espacio para asientos:\n",
        "  7. $1.8 * x_1 + 1.4 * x_2 + 1 * x_3 = 420$\n",
        "\n",
        "  * Notas adicionales: Las variables $x_1$, $x_2$, $x_3$, $y_1$ y $y_2$ deben ser números enteros."
      ],
      "metadata": {
        "id": "vXaXkljPn_ZY"
      }
    },
    {
      "cell_type": "code",
      "source": [
        "from scipy.optimize import linprog\n",
        "c = [-1920,-1240,-850,300,170]\n",
        "A = [[1, .5,.25,-10,0]]\n",
        "b = [0]\n",
        "Ae=[[1.8,1.4,1,0,0]]\n",
        "be=[420]\n",
        "x1_bounds = (25,45)\n",
        "x2_bounds = (80,100)\n",
        "x3_bounds = (120,210)\n",
        "y1_bounds = (8,18)\n",
        "y2_bounds = (2,5)\n",
        "res = linprog(c, A_ub=A, b_ub=b,A_eq=Ae, b_eq=be,bounds=[x1_bounds, x2_bounds,x3_bounds,y1_bounds,y2_bounds],integrality=1)\n",
        "print(res.x)\n",
        "print(-res.fun-75000)"
      ],
      "metadata": {
        "colab": {
          "base_uri": "https://localhost:8080/"
        },
        "id": "5dM2EwAX_F41",
        "outputId": "b292fc1c-b247-4fe1-c897-9c68ef6b3fd2"
      },
      "execution_count": 17,
      "outputs": [
        {
          "output_type": "stream",
          "name": "stdout",
          "text": [
            "[ 45. 100. 199.  15.   2.]\n",
            "299710.0\n"
          ]
        }
      ]
    },
    {
      "cell_type": "markdown",
      "source": [
        "Entonces los pasajeros de primera clase son 45, los de clase ejecutiva son 100, los de economica son 199, son 15 azafatas y 2 auxiliares de vuelo, con una ganancia de $\\$299710$ dollares."
      ],
      "metadata": {
        "id": "WoJ6vMilBtfG"
      }
    },
    {
      "cell_type": "markdown",
      "source": [
        "__Pregunta2__: A continuación, se presenta una escena de un juego de acertijos, donde el jugador requiere seleccionar una combinación correcta de los alimentos para seguir avanzando en su aventura:\n",
        "\n",
        "El objetivo del puzzle es el siguiente: Se cuenta con 5 tipos distintos de comida (ensalada,sopa, carne,pescado y pasta). Cada uno de ellos tiene un aporte nutricional (naranjo, rojo y verde), el cual se muestra en la siguiente figura:\n",
        "\n",
        "| plato | aporte | tipo |\n",
        "|-------|--------|------|\n",
        "| carne | 3 | verde |\n",
        "| carne | 3 | rojo |\n",
        "| carne | 1 | naranja |\n",
        "| pescado | 2 | verde |\n",
        "| pescado | 3 | rojo |\n",
        "| pescado | 1 | naranja |\n",
        "| ensalada | 0 | verde |\n",
        "| ensalada | 1 | rojo |\n",
        "| ensalada | 2 | naranja |\n",
        "| pasta | 2 | verde |\n",
        "| pasta | 1 | rojo |\n",
        "| pasta | 3 | naranja |\n",
        "| sopa | 1 | verde |\n",
        "| sopa | 2 | rojo |\n",
        "| sopa | 1 | naranja |\n",
        "\n",
        "\n",
        "Debido a esto, el juego requiere que se planifique la cantidad de platos de comida para los 5 días, considerando que en cada día se tiene que alcanzar un requerimiento nutricional distinto, el cualse muestra en la siguiente figura:\n",
        "\n",
        "| dia (week) | aporte | tipo |\n",
        "|-------|--------|------|\n",
        "| A | 8 | verde |\n",
        "| A | 10 | rojo |\n",
        "| A | 8 | naranja |\n",
        "| B | 4 | verde |\n",
        "| B | 9 | rojo |\n",
        "| B | 7 | naranja |\n",
        "| C | 9 | verde |\n",
        "| C | 10 | rojo |\n",
        "| C | 8 | naranja |\n",
        "| D | 9 | verde |\n",
        "| D | 11 | rojo |\n",
        "| D | 8 | naranja |\n",
        "| E | 10 | verde |\n",
        "| E | 10 | rojo |\n",
        "| E | 9 | naranja |\n",
        "\n",
        "\n",
        "Por último, considerar que sólo se cuenta con 5 platos de cada comida. En base a esto, formule un modelo matemático que encuentre una solución."
      ],
      "metadata": {
        "id": "_xLchlkL72Dm"
      }
    },
    {
      "cell_type": "markdown",
      "source": [
        "__Respuesta__:\n",
        "\n",
        "El problema de optimización lineal puede ser formulado de la siguiente manera:\n",
        "\n",
        "* _Variables de decisión_:\n",
        "\n",
        "  1. $x_i$: Número de platos ($1 \\leq i \\leq 5$).\n",
        "\n",
        "* _Función objetivo_:\n",
        "\n",
        "  Maximizar la ganancia nutricional:\n",
        "\n",
        "  ___Maximizar___:\n",
        "\n",
        "$$f(x)=\\sum  x_i$$\n",
        "\n",
        "*_Restricciones_:\n",
        "\n",
        " Límite de asientos por clase:\n",
        "\n",
        " 1. $\\sum_{k=1}^{5} x_{i,j,k} =5$ \n",
        " 2. $\\sum_{i=1}^{5}  w_{i} x_{i,j,k} \\geq A_{j,k}$ aporte nutricional j para el dia k \n",
        " 3. $5 \\geq x_{i,k,j}$\n",
        "\n",
        "  * Notas adicionales: Las variables $x_i$ deben ser números enteros."
      ],
      "metadata": {
        "id": "BdEIrOLDHEiz"
      }
    },
    {
      "cell_type": "code",
      "source": [
        "from scipy.optimize import linprog\n",
        "import numpy as np\n",
        "c = -np.ones(25)\n",
        "A = np.array([[3,2,0,2,1],[3,3,1,1,2],[1,1,2,3,1]])\n",
        "Au=-np.kron(np.eye(5),A)\n",
        "Ae=np.kron(np.ones(5),np.eye(5))\n",
        "bu = [-8,-10,-8,-4,-9,-7,-9,-10,-8,-9,-11,-8,-10,-10,-9]\n",
        "be=[5]*5\n",
        "x_bounds = (0,5)\n",
        "res = linprog(c, A_ub=Au, b_ub=bu,A_eq=Ae, b_eq=be,bounds=[x_bounds]*25,integrality=1)\n",
        "print(res.x)\n",
        "print(-res.fun)"
      ],
      "metadata": {
        "colab": {
          "base_uri": "https://localhost:8080/"
        },
        "id": "4eDgHBzBII4k",
        "outputId": "bf671f7c-6e60-4612-9913-0a703fc72609"
      },
      "execution_count": 55,
      "outputs": [
        {
          "output_type": "stream",
          "name": "stdout",
          "text": [
            "[1. 1. 1. 1. 1. 0. 1. 2. 0. 2. 2. 0. 1. 1. 1. 1. 2. 1. 1. 0. 1. 1. 0. 2.\n",
            " 1.]\n",
            "25.0\n"
          ]
        }
      ]
    },
    {
      "cell_type": "markdown",
      "source": [
        "A continuacion se puede ver en la tabla, como se distribuyen los diferentes platos durante la semana."
      ],
      "metadata": {
        "id": "du0YRs_6RY7Z"
      }
    },
    {
      "cell_type": "code",
      "source": [
        "import pandas as pd\n",
        "pd.DataFrame(res.x.reshape(5,5),columns=['A','B','C','D','E'],index=['carne','pescado','ensalada','pasta','sopa']).astype(int)"
      ],
      "metadata": {
        "colab": {
          "base_uri": "https://localhost:8080/",
          "height": 206
        },
        "id": "9D3iq57ZJz-P",
        "outputId": "c0f6349b-8481-4510-8e6a-e24fb502830c"
      },
      "execution_count": 62,
      "outputs": [
        {
          "output_type": "execute_result",
          "data": {
            "text/plain": [
              "          A  B  C  D  E\n",
              "carne     1  1  1  1  1\n",
              "pescado   0  1  2  0  2\n",
              "ensalada  2  0  1  1  1\n",
              "pasta     1  2  1  1  0\n",
              "sopa      1  1  0  2  1"
            ],
            "text/html": [
              "\n",
              "  <div id=\"df-7ad1c445-47f6-40d3-aedb-da15dfd1282a\">\n",
              "    <div class=\"colab-df-container\">\n",
              "      <div>\n",
              "<style scoped>\n",
              "    .dataframe tbody tr th:only-of-type {\n",
              "        vertical-align: middle;\n",
              "    }\n",
              "\n",
              "    .dataframe tbody tr th {\n",
              "        vertical-align: top;\n",
              "    }\n",
              "\n",
              "    .dataframe thead th {\n",
              "        text-align: right;\n",
              "    }\n",
              "</style>\n",
              "<table border=\"1\" class=\"dataframe\">\n",
              "  <thead>\n",
              "    <tr style=\"text-align: right;\">\n",
              "      <th></th>\n",
              "      <th>A</th>\n",
              "      <th>B</th>\n",
              "      <th>C</th>\n",
              "      <th>D</th>\n",
              "      <th>E</th>\n",
              "    </tr>\n",
              "  </thead>\n",
              "  <tbody>\n",
              "    <tr>\n",
              "      <th>carne</th>\n",
              "      <td>1</td>\n",
              "      <td>1</td>\n",
              "      <td>1</td>\n",
              "      <td>1</td>\n",
              "      <td>1</td>\n",
              "    </tr>\n",
              "    <tr>\n",
              "      <th>pescado</th>\n",
              "      <td>0</td>\n",
              "      <td>1</td>\n",
              "      <td>2</td>\n",
              "      <td>0</td>\n",
              "      <td>2</td>\n",
              "    </tr>\n",
              "    <tr>\n",
              "      <th>ensalada</th>\n",
              "      <td>2</td>\n",
              "      <td>0</td>\n",
              "      <td>1</td>\n",
              "      <td>1</td>\n",
              "      <td>1</td>\n",
              "    </tr>\n",
              "    <tr>\n",
              "      <th>pasta</th>\n",
              "      <td>1</td>\n",
              "      <td>2</td>\n",
              "      <td>1</td>\n",
              "      <td>1</td>\n",
              "      <td>0</td>\n",
              "    </tr>\n",
              "    <tr>\n",
              "      <th>sopa</th>\n",
              "      <td>1</td>\n",
              "      <td>1</td>\n",
              "      <td>0</td>\n",
              "      <td>2</td>\n",
              "      <td>1</td>\n",
              "    </tr>\n",
              "  </tbody>\n",
              "</table>\n",
              "</div>\n",
              "      <button class=\"colab-df-convert\" onclick=\"convertToInteractive('df-7ad1c445-47f6-40d3-aedb-da15dfd1282a')\"\n",
              "              title=\"Convert this dataframe to an interactive table.\"\n",
              "              style=\"display:none;\">\n",
              "        \n",
              "  <svg xmlns=\"http://www.w3.org/2000/svg\" height=\"24px\"viewBox=\"0 0 24 24\"\n",
              "       width=\"24px\">\n",
              "    <path d=\"M0 0h24v24H0V0z\" fill=\"none\"/>\n",
              "    <path d=\"M18.56 5.44l.94 2.06.94-2.06 2.06-.94-2.06-.94-.94-2.06-.94 2.06-2.06.94zm-11 1L8.5 8.5l.94-2.06 2.06-.94-2.06-.94L8.5 2.5l-.94 2.06-2.06.94zm10 10l.94 2.06.94-2.06 2.06-.94-2.06-.94-.94-2.06-.94 2.06-2.06.94z\"/><path d=\"M17.41 7.96l-1.37-1.37c-.4-.4-.92-.59-1.43-.59-.52 0-1.04.2-1.43.59L10.3 9.45l-7.72 7.72c-.78.78-.78 2.05 0 2.83L4 21.41c.39.39.9.59 1.41.59.51 0 1.02-.2 1.41-.59l7.78-7.78 2.81-2.81c.8-.78.8-2.07 0-2.86zM5.41 20L4 18.59l7.72-7.72 1.47 1.35L5.41 20z\"/>\n",
              "  </svg>\n",
              "      </button>\n",
              "      \n",
              "  <style>\n",
              "    .colab-df-container {\n",
              "      display:flex;\n",
              "      flex-wrap:wrap;\n",
              "      gap: 12px;\n",
              "    }\n",
              "\n",
              "    .colab-df-convert {\n",
              "      background-color: #E8F0FE;\n",
              "      border: none;\n",
              "      border-radius: 50%;\n",
              "      cursor: pointer;\n",
              "      display: none;\n",
              "      fill: #1967D2;\n",
              "      height: 32px;\n",
              "      padding: 0 0 0 0;\n",
              "      width: 32px;\n",
              "    }\n",
              "\n",
              "    .colab-df-convert:hover {\n",
              "      background-color: #E2EBFA;\n",
              "      box-shadow: 0px 1px 2px rgba(60, 64, 67, 0.3), 0px 1px 3px 1px rgba(60, 64, 67, 0.15);\n",
              "      fill: #174EA6;\n",
              "    }\n",
              "\n",
              "    [theme=dark] .colab-df-convert {\n",
              "      background-color: #3B4455;\n",
              "      fill: #D2E3FC;\n",
              "    }\n",
              "\n",
              "    [theme=dark] .colab-df-convert:hover {\n",
              "      background-color: #434B5C;\n",
              "      box-shadow: 0px 1px 3px 1px rgba(0, 0, 0, 0.15);\n",
              "      filter: drop-shadow(0px 1px 2px rgba(0, 0, 0, 0.3));\n",
              "      fill: #FFFFFF;\n",
              "    }\n",
              "  </style>\n",
              "\n",
              "      <script>\n",
              "        const buttonEl =\n",
              "          document.querySelector('#df-7ad1c445-47f6-40d3-aedb-da15dfd1282a button.colab-df-convert');\n",
              "        buttonEl.style.display =\n",
              "          google.colab.kernel.accessAllowed ? 'block' : 'none';\n",
              "\n",
              "        async function convertToInteractive(key) {\n",
              "          const element = document.querySelector('#df-7ad1c445-47f6-40d3-aedb-da15dfd1282a');\n",
              "          const dataTable =\n",
              "            await google.colab.kernel.invokeFunction('convertToInteractive',\n",
              "                                                     [key], {});\n",
              "          if (!dataTable) return;\n",
              "\n",
              "          const docLinkHtml = 'Like what you see? Visit the ' +\n",
              "            '<a target=\"_blank\" href=https://colab.research.google.com/notebooks/data_table.ipynb>data table notebook</a>'\n",
              "            + ' to learn more about interactive tables.';\n",
              "          element.innerHTML = '';\n",
              "          dataTable['output_type'] = 'display_data';\n",
              "          await google.colab.output.renderOutput(dataTable, element);\n",
              "          const docLink = document.createElement('div');\n",
              "          docLink.innerHTML = docLinkHtml;\n",
              "          element.appendChild(docLink);\n",
              "        }\n",
              "      </script>\n",
              "    </div>\n",
              "  </div>\n",
              "  "
            ]
          },
          "metadata": {},
          "execution_count": 62
        }
      ]
    }
  ]
}